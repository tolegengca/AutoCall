{
 "cells": [
  {
   "cell_type": "code",
   "execution_count": null,
   "metadata": {},
   "outputs": [],
   "source": [
    "import pandas as pd\n",
    "from gtts import gTTS\n",
    "import os\n",
    "\n",
    "# Load the Excel File\n",
    "excel_path = 'clients.xlsx' # Update with the path to your Excel file\n",
    "df = pd.read_excel(excel_path)\n",
    "\n",
    "# Directory to save audio files\n",
    "audio_files_dir = 'audio_reminders_ru'\n",
    "os.makedirs(audio_files_dir, exist_ok=True)\n",
    "\n",
    "# Function to generate payment reminder speech in Russian\n",
    "def generate_payment_reminder(name, debt):\n",
    "message = f\"Здравствуйте, {пame}, это напоминание о том, что у вас есть неоплаченный долг в размере {debt} тенге. Пожалуйста, произведите оплату как можно скорее. Спасибо.\"\n",
    "return message\n",
    "\n",
    "# Iterate over the DataFrame and generate speech for each client\n",
    "for index, row in df.iterrows():\n",
    "client_name = row['Name'] # Assuming the column is named 'Name\n",
    "debt_amount = row['Debt'] # Assuming the column is named 'Debt'\n",
    "\n",
    "# Generate the reminder message in Russian\n",
    "reminder_text = generate_payment_reminder(client_name, debt_amount)\n",
    "\n",
    "# Convert text to speech, specifying Russian as the language\n",
    "tts = gTTS(reminder_text, lang='ru')\n",
    "audio_file_path = os.path.join(audio_files_dir, f\"reminder_{client_name.replace(' ', '_')}.mp3\")\n",
    "tts.save(audio_file_path)\n",
    "print(f\"Generated audio reminder for {client_name} in Russian.\")\n",
    "\n",
    "# Note: This script assumes you're familiar with the Cyrillic alphabet and can input client names in Russian if desired."
   ]
  }
 ],
 "metadata": {
  "kernelspec": {
   "display_name": "Python 3",
   "language": "python",
   "name": "python3"
  },
  "language_info": {
   "name": "python",
   "version": "3.10.13"
  }
 },
 "nbformat": 4,
 "nbformat_minor": 2
}
